{
 "cells": [
  {
   "cell_type": "code",
   "execution_count": 1,
   "id": "d37bf2c0-8a6c-4361-8ce0-fcad33526fc4",
   "metadata": {},
   "outputs": [],
   "source": [
    "from qiskit import *\n",
    "from qiskit.tools.visualization import plot_histogram\n",
    "%matplotlib inline\n",
    "\n",
    "num=\"110000100101\" \n",
    "\n",
    "def BV_algo(n, simulator_name, n_shots):  # simulator name have to be in string\n",
    "    qb=QuantumRegister(len(n)+1)\n",
    "    cb=ClassicalRegister(len(n))\n",
    "    qc=QuantumCircuit(qb,cb)\n",
    "    \n",
    "    # 1st step\n",
    "    qc.h(range(len(n))) # HADAMARD gate on all qbits except last one\n",
    "    qc.x(len(n)) # NOT gate on last qbit\n",
    "    qc.h(len(n)) # HADAMARD gate on last qbit\n",
    "    \n",
    "    # 2nd step\n",
    "    for index,value in enumerate(str(n)[::-1]):  # reversing the index counting of num\n",
    "        if value==\"1\":\n",
    "            qc.cx(index,len(n))\n",
    "    
    "    #3rd step        \n",
    "    qc.h(range(len(n))) # Hadamard on all qbits except last one\n",
    "    qc.measure(range(len(n)),range(len(n))) # measurement based on same number of qbits & classical bits as last qbit wont be considered directly\n",
    "   \n",
    "    \n",
    "    # final step(execution)\n",
    "    sim=Aer.get_backend(simulator_name)\n",
    "    outcome=execute(qc,backend=sim,shots=n_shots).result()\n",
    "    count= outcome.get_counts()\n",
    "    \n",
    "    for key,value in count.items():\n",
    "        if key==str(n):\n",
    "            print(f\"Given number {n} is same as predicted number {key} \\nTotal count for the predicted number is {value}\")\n",
    "    print(qc)"
   ]
  },
  {
   "cell_type": "code",
   "execution_count": 2,
   "id": "43717908-cdda-41c2-bb5d-231823e23c8f",
   "metadata": {},
   "outputs": [
    {
     "name": "stdout",
     "output_type": "stream",
     "text": [
      "Given number 110000100101 is same as predicted number 110000100101 \n",
      "Total count for the predicted number is 1\n",
      "       ┌───┐          ┌───┐                            ┌─┐                     »\n",
      " q0_0: ┤ H ├───────■──┤ H ├────────────────────────────┤M├─────────────────────»\n",
      "       ├───┤┌───┐  │  └┬─┬┘                            └╥┘                     »\n",
      " q0_1: ┤ H ├┤ H ├──┼───┤M├──────────────────────────────╫──────────────────────»\n",
      "       ├───┤└───┘  │   └╥┘                        ┌───┐ ║      ┌─┐             »\n",
      " q0_2: ┤ H ├───────┼────╫──────────────────────■──┤ H ├─╫──────┤M├─────────────»\n",
      "       ├───┤┌───┐  │    ║  ┌─┐                 │  └───┘ ║      └╥┘             »\n",
      " q0_3: ┤ H ├┤ H ├──┼────╫──┤M├─────────────────┼────────╫───────╫──────────────»\n",
      "       ├───┤├───┤  │    ║  └╥┘┌─┐              │        ║       ║              »\n",
      " q0_4: ┤ H ├┤ H ├──┼────╫───╫─┤M├──────────────┼────────╫───────╫──────────────»\n",
      "       ├───┤└───┘  │    ║   ║ └╥┘              │        ║ ┌───┐ ║      ┌─┐     »\n",
      " q0_5: ┤ H ├───────┼────╫───╫──╫───────────────┼────■───╫─┤ H ├─╫──────┤M├─────»\n",
      "       ├───┤┌───┐  │    ║   ║  ║ ┌─┐           │    │   ║ └───┘ ║      └╥┘     »\n",
      " q0_6: ┤ H ├┤ H ├──┼────╫───╫──╫─┤M├───────────┼────┼───╫───────╫───────╫──────»\n",
      "       ├───┤├───┤  │    ║   ║  ║ └╥┘┌─┐        │    │   ║       ║       ║      »\n",
      " q0_7: ┤ H ├┤ H ├──┼────╫───╫──╫──╫─┤M├────────┼────┼───╫───────╫───────╫──────»\n",
      "       ├───┤├───┤  │    ║   ║  ║  ║ └╥┘┌─┐     │    │   ║       ║       ║      »\n",
      " q0_8: ┤ H ├┤ H ├──┼────╫───╫──╫──╫──╫─┤M├─────┼────┼───╫───────╫───────╫──────»\n",
      "       ├───┤├───┤  │    ║   ║  ║  ║  ║ └╥┘┌─┐  │    │   ║       ║       ║      »\n",
      " q0_9: ┤ H ├┤ H ├──┼────╫───╫──╫──╫──╫──╫─┤M├──┼────┼───╫───────╫───────╫──────»\n",
      "       ├───┤└───┘  │    ║   ║  ║  ║  ║  ║ └╥┘  │    │   ║       ║ ┌───┐ ║      »\n",
      "q0_10: ┤ H ├───────┼────╫───╫──╫──╫──╫──╫──╫───┼────┼───╫───■───╫─┤ H ├─╫──────»\n",
      "       ├───┤       │    ║   ║  ║  ║  ║  ║  ║   │    │   ║   │   ║ └───┘ ║ ┌───┐»\n",
      "q0_11: ┤ H ├───────┼────╫───╫──╫──╫──╫──╫──╫───┼────┼───╫───┼───╫───■───╫─┤ H ├»\n",
      "       ├───┤┌───┐┌─┴─┐  ║   ║  ║  ║  ║  ║  ║ ┌─┴─┐┌─┴─┐ ║ ┌─┴─┐ ║ ┌─┴─┐ ║ └───┘»\n",
      "q0_12: ┤ X ├┤ H ├┤ X ├──╫───╫──╫──╫──╫──╫──╫─┤ X ├┤ X ├─╫─┤ X ├─╫─┤ X ├─╫──────»\n",
      "       └───┘└───┘└───┘  ║   ║  ║  ║  ║  ║  ║ └───┘└───┘ ║ └───┘ ║ └───┘ ║      »\n",
      "c0: 12/═════════════════╩═══╩══╩══╩══╩══╩══╩════════════╩═══════╩═══════╩══════»\n",
      "                        1   3  4  6  7  8  9            0       2       5      »\n",
      "«             \n",
      "« q0_0: ──────\n",
      "«             \n",
      "« q0_1: ──────\n",
      "«             \n",
      "« q0_2: ──────\n",
      "«             \n",
      "« q0_3: ──────\n",
      "«             \n",
      "« q0_4: ──────\n",
      "«             \n",
      "« q0_5: ──────\n",
      "«             \n",
      "« q0_6: ──────\n",
      "«             \n",
      "« q0_7: ──────\n",
      "«             \n",
      "« q0_8: ──────\n",
      "«             \n",
      "« q0_9: ──────\n",
      "«       ┌─┐   \n",
      "«q0_10: ┤M├───\n",
      "«       └╥┘┌─┐\n",
      "«q0_11: ─╫─┤M├\n",
      "«        ║ └╥┘\n",
      "«q0_12: ─╫──╫─\n",
      "«        ║  ║ \n",
      "«c0: 12/═╩══╩═\n",
      "«        10 11\n"
     ]
    },
    {
     "name": "stderr",
     "output_type": "stream",
     "text": [
      "<frozen importlib._bootstrap>:219: RuntimeWarning: scipy._lib.messagestream.MessageStream size changed, may indicate binary incompatibility. Expected 56 from C header, got 64 from PyObject\n"
     ]
    }
   ],
   "source": [
    "BV_algo(num,\"qasm_simulator\",1)  "
   ]
  },
  {
   "cell_type": "code",
   "execution_count": null,
   "id": "64a3081c-d3f7-4e88-969f-df83e7941cde",
   "metadata": {},
   "outputs": [],
   "source": []
  }
 ],
 "metadata": {
  "kernelspec": {
   "display_name": "Python 3",
   "language": "python",
   "name": "python3"
  },
  "language_info": {
   "codemirror_mode": {
    "name": "ipython",
    "version": 3
   },
   "file_extension": ".py",
   "mimetype": "text/x-python",
   "name": "python",
   "nbconvert_exporter": "python",
   "pygments_lexer": "ipython3",
   "version": "3.8.8"
  },
  "widgets": {
   "application/vnd.jupyter.widget-state+json": {
    "state": {},
    "version_major": 2,
    "version_minor": 0
   }
  }
 },
 "nbformat": 4,
 "nbformat_minor": 5
}
