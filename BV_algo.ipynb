{
 "cells": [
  {
   "cell_type": "code",
   "execution_count": 138,
   "id": "1a72178d-87ab-491d-9b90-9076cbd058cb",
   "metadata": {},
   "outputs": [],
   "source": [
    "from qiskit import *\n",
    "from qiskit.tools.visualization import plot_histogram\n",
    "%matplotlib inline\n",
    "\n",
    "num=\"110000100101\" \n",
    "\n",
    "def BV_algo(n, simulator_name, n_shots):  # simulator name have to be in string\n",
    "    qb=QuantumRegister(len(n)+1)\n",
    "    cb=ClassicalRegister(len(n))\n",
    "    qc=QuantumCircuit(qb,cb)\n",
    "    \n",
    "    # 1st step\n",
    "    qc.h(range(len(n))) # HADAMARD gate on all qbits except last one\n",
    "    qc.x(len(n)) # NOT gate on last qbit\n",
    "    qc.h(len(n)) # HADAMARD gate on last qbit\n",
    "    \n",
    "    # 2nd step\n",
    "    for index,value in enumerate(str(n)[::-1]):  # reversing the index counting of num\n",
    "        if value==\"1\":\n",
    "            qc.cx(index,len(n))\n",
    "    qc.draw(output=\"mpl\")\n",
    "    #3rd step        \n",
    "    qc.h(range(len(n))) # Hadamard on all qbits except last one\n",
    "    qc.measure(range(len(n)),range(len(n))) # measurement based on same number of qbits & classical bits as last qbit wont be considered directly\n",
    "   \n",
    "    \n",
    "    # final step(execution)\n",
    "    sim=Aer.get_backend(simulator_name)\n",
    "    outcome=execute(qc,backend=sim,shots=n_shots).result()\n",
    "    count= outcome.get_counts()\n",
    "    \n",
    "    for key,value in count.items():\n",
    "        if key==str(n):\n",
    "            print(f\"Given number {n} is same as predicted number {key} \\nTotal count for the predicted number is {value}\")\n",
    "    print(qc)\n",
    "    \n",
    "    \n",
    "    \n",
    " \n",
    "    "
   ]
  },
  {
   "cell_type": "code",
   "execution_count": 140,
   "id": "b9325ed3-2e58-4b0c-baf9-c9144d34ea1d",
   "metadata": {},
   "outputs": [
    {
     "name": "stdout",
     "output_type": "stream",
     "text": [
      "Given number 110000100101 is same as predicted number 110000100101 \n",
      "Total count for the predicted number is 1\n",
      "         ┌───┐          ┌───┐                            ┌─┐                »\n",
      " q761_0: ┤ H ├───────■──┤ H ├────────────────────────────┤M├────────────────»\n",
      "         ├───┤┌───┐  │  └┬─┬┘                            └╥┘                »\n",
      " q761_1: ┤ H ├┤ H ├──┼───┤M├──────────────────────────────╫─────────────────»\n",
      "         ├───┤└───┘  │   └╥┘                        ┌───┐ ║      ┌─┐        »\n",
      " q761_2: ┤ H ├───────┼────╫──────────────────────■──┤ H ├─╫──────┤M├────────»\n",
      "         ├───┤┌───┐  │    ║  ┌─┐                 │  └───┘ ║      └╥┘        »\n",
      " q761_3: ┤ H ├┤ H ├──┼────╫──┤M├─────────────────┼────────╫───────╫─────────»\n",
      "         ├───┤├───┤  │    ║  └╥┘┌─┐              │        ║       ║         »\n",
      " q761_4: ┤ H ├┤ H ├──┼────╫───╫─┤M├──────────────┼────────╫───────╫─────────»\n",
      "         ├───┤└───┘  │    ║   ║ └╥┘              │        ║ ┌───┐ ║      ┌─┐»\n",
      " q761_5: ┤ H ├───────┼────╫───╫──╫───────────────┼────■───╫─┤ H ├─╫──────┤M├»\n",
      "         ├───┤┌───┐  │    ║   ║  ║ ┌─┐           │    │   ║ └───┘ ║      └╥┘»\n",
      " q761_6: ┤ H ├┤ H ├──┼────╫───╫──╫─┤M├───────────┼────┼───╫───────╫───────╫─»\n",
      "         ├───┤├───┤  │    ║   ║  ║ └╥┘┌─┐        │    │   ║       ║       ║ »\n",
      " q761_7: ┤ H ├┤ H ├──┼────╫───╫──╫──╫─┤M├────────┼────┼───╫───────╫───────╫─»\n",
      "         ├───┤├───┤  │    ║   ║  ║  ║ └╥┘┌─┐     │    │   ║       ║       ║ »\n",
      " q761_8: ┤ H ├┤ H ├──┼────╫───╫──╫──╫──╫─┤M├─────┼────┼───╫───────╫───────╫─»\n",
      "         ├───┤├───┤  │    ║   ║  ║  ║  ║ └╥┘┌─┐  │    │   ║       ║       ║ »\n",
      " q761_9: ┤ H ├┤ H ├──┼────╫───╫──╫──╫──╫──╫─┤M├──┼────┼───╫───────╫───────╫─»\n",
      "         ├───┤└───┘  │    ║   ║  ║  ║  ║  ║ └╥┘  │    │   ║       ║ ┌───┐ ║ »\n",
      "q761_10: ┤ H ├───────┼────╫───╫──╫──╫──╫──╫──╫───┼────┼───╫───■───╫─┤ H ├─╫─»\n",
      "         ├───┤       │    ║   ║  ║  ║  ║  ║  ║   │    │   ║   │   ║ └───┘ ║ »\n",
      "q761_11: ┤ H ├───────┼────╫───╫──╫──╫──╫──╫──╫───┼────┼───╫───┼───╫───■───╫─»\n",
      "         ├───┤┌───┐┌─┴─┐  ║   ║  ║  ║  ║  ║  ║ ┌─┴─┐┌─┴─┐ ║ ┌─┴─┐ ║ ┌─┴─┐ ║ »\n",
      "q761_12: ┤ X ├┤ H ├┤ X ├──╫───╫──╫──╫──╫──╫──╫─┤ X ├┤ X ├─╫─┤ X ├─╫─┤ X ├─╫─»\n",
      "         └───┘└───┘└───┘  ║   ║  ║  ║  ║  ║  ║ └───┘└───┘ ║ └───┘ ║ └───┘ ║ »\n",
      " c65: 12/═════════════════╩═══╩══╩══╩══╩══╩══╩════════════╩═══════╩═══════╩═»\n",
      "                          1   3  4  6  7  8  9            0       2       5 »\n",
      "«                    \n",
      "« q761_0: ───────────\n",
      "«                    \n",
      "« q761_1: ───────────\n",
      "«                    \n",
      "« q761_2: ───────────\n",
      "«                    \n",
      "« q761_3: ───────────\n",
      "«                    \n",
      "« q761_4: ───────────\n",
      "«                    \n",
      "« q761_5: ───────────\n",
      "«                    \n",
      "« q761_6: ───────────\n",
      "«                    \n",
      "« q761_7: ───────────\n",
      "«                    \n",
      "« q761_8: ───────────\n",
      "«                    \n",
      "« q761_9: ───────────\n",
      "«              ┌─┐   \n",
      "«q761_10: ─────┤M├───\n",
      "«         ┌───┐└╥┘┌─┐\n",
      "«q761_11: ┤ H ├─╫─┤M├\n",
      "«         └───┘ ║ └╥┘\n",
      "«q761_12: ──────╫──╫─\n",
      "«               ║  ║ \n",
      "« c65: 12/══════╩══╩═\n",
      "«               10 11\n"
     ]
    }
   ],
   "source": [
    "BV_algo(num,\"qasm_simulator\",1)   "
   ]
  },
  {
   "cell_type": "code",
   "execution_count": 118,
   "id": "dad3bd2e-db94-443c-8c2e-7ff02c7f3a64",
   "metadata": {},
   "outputs": [],
   "source": [
    "class BV():\n",
    "\n",
    "    def __init__(self,n, simulator_name, n_shots):  # simulator name have to be in string\n",
    "        qb=QuantumRegister(len(n)+1)\n",
    "        cb=ClassicalRegister(len(n))\n",
    "        self.circuit=QuantumCircuit(qb,cb)\n",
    "    \n",
    "        # 1st step\n",
    "        self.circuit.h(range(len(n))) # HADAMARD gate on all qbits except last one\n",
    "        self.circuit.x(len(n)) # NOT gate on last qbit\n",
    "        self.circuit.h(len(n)) # HADAMARD gate on last qbit\n",
    "    \n",
    "        # 2nd step\n",
    "        for index,value in enumerate(str(n)[::-1]):  # reversing the index counting of num\n",
    "            if value==\"1\":\n",
    "                self.circuit.cx(index,len(n))\n",
    "    \n",
    "        #3rd step        \n",
    "        self.o=self.circuit.h(range(len(n))) # Hadamard on all qbits except last one\n",
    "        self.circuit.measure(range(len(n)),range(len(n))) # measurement based on same number of qbits & classical bits as last qbit wont be considered directly\n",
    "   \n",
    "    \n",
    "        # final step(execution)\n",
    "        sim=Aer.get_backend(simulator_name)\n",
    "        outcome=execute(self.circuit,backend=sim,shots=n_shots).result()\n",
    "        count= outcome.get_counts()\n",
    "    \n",
    "        for key,value in count.items():\n",
    "            if key==str(n):\n",
    "                print(f\"Given number {n} is same as predicted number {key} \\nTotal count for the predicted number is {value}\")\n",
    "    \n",
    "    def draw(self):\n",
    "        from qiskit.tools.visualization import plot_histogram\n",
    "        %matplotlib inline \n",
    "        self.o.draw(output=\"mpl\")\n",
    "        "
   ]
  },
  {
   "cell_type": "code",
   "execution_count": 119,
   "id": "68a2c17d-c3d3-4e32-8ff0-2ee42bdb364b",
   "metadata": {},
   "outputs": [
    {
     "name": "stdout",
     "output_type": "stream",
     "text": [
      "Given number 110000100101 is same as predicted number 110000100101 \n",
      "Total count for the predicted number is 1\n"
     ]
    },
    {
     "data": {
      "text/plain": [
       "<__main__.BV at 0x7fc6dcbac3d0>"
      ]
     },
     "execution_count": 119,
     "metadata": {},
     "output_type": "execute_result"
    }
   ],
   "source": [
    "h=BV(num,\"qasm_simulator\",1)\n",
    "h"
   ]
  },
  {
   "cell_type": "code",
   "execution_count": 129,
   "id": "166d995a-b458-4f1f-af8c-68761c6404a1",
   "metadata": {},
   "outputs": [],
   "source": [
    "def a(n):    \n",
    "    %matplotlib inline \n",
    "    qb=QuantumRegister(len(n)+1)\n",
    "    cb=ClassicalRegister(len(n))\n",
    "    circuit=QuantumCircuit(qb,cb)\n",
    "    \n",
    "    # 1st step\n",
    "    circuit.h(range(len(n))) # HADAMARD gate on all qbits except last one\n",
    "    circuit.x(len(n)) # NOT gate on last qbit\n",
    "    circuit.h(len(n)) # HADAMARD gate on last qbit\n",
    "    \n",
    "    # 2nd step\n",
    "    for index,value in enumerate(str(n)[::-1]):  # reversing the index counting of num\n",
    "        if value==\"1\":\n",
    "            circuit.cx(index,len(n))\n",
    "    circuit.draw(output=\"mpl\")"
   ]
  },
  {
   "cell_type": "code",
   "execution_count": 130,
   "id": "1eddd5fc-7001-4d3d-84fb-cd786ccf1d5f",
   "metadata": {},
   "outputs": [],
   "source": [
    "a(\"1011\")"
   ]
  },
  {
   "cell_type": "code",
   "execution_count": null,
   "id": "1aec41fe-6bda-4313-923d-3f0ce2b51462",
   "metadata": {},
   "outputs": [],
   "source": []
  }
 ],
 "metadata": {
  "kernelspec": {
   "display_name": "Python 3",
   "language": "python",
   "name": "python3"
  },
  "language_info": {
   "codemirror_mode": {
    "name": "ipython",
    "version": 3
   },
   "file_extension": ".py",
   "mimetype": "text/x-python",
   "name": "python",
   "nbconvert_exporter": "python",
   "pygments_lexer": "ipython3",
   "version": "3.8.8"
  },
  "widgets": {
   "application/vnd.jupyter.widget-state+json": {
    "state": {},
    "version_major": 2,
    "version_minor": 0
   }
  }
 },
 "nbformat": 4,
 "nbformat_minor": 5
}
