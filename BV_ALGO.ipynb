from qiskit import *
from qiskit.tools.visualization import plot_histogram
%matplotlib inline     

num=110000100101  # 12 bits

def BV_algo(n, simulator_name, n_shots):  # simulator name have to be in string
    qb=QuantumRegister(len(n)+1)
    cb=ClassicalRegister(len(n))
    qc=QuantumCircuit(qb,cb)
    
    # 1st step
    qc.h(range(len(n))) # HADAMARD gate on all qbits except last one
    qc.x(len(n)) # NOT gate on last qbit
    qc.h(len(n)) # HADAMARD gate on last qbit
    
    # 2nd step
    for index,value in enumerate(str(n)[::-1]):  # reversing the index counting of num
        if value=="1":
            qc.cx(index,len(n))
    qc.draw(output="mpl")
    #3rd step        
    qc.h(range(len(n))) # Hadamard on all qbits except last one
    qc.measure(range(len(n)),range(len(n))) # measurement based on same number of qbits & classical bits as last qbit wont be considered directly
   
    
    # final step(execution)
    sim=Aer.get_backend(simulator_name)
    outcome=execute(qc,backend=sim,shots=n_shots).result()
    count= outcome.get_counts()
    
    for key,value in count.items():
        if key==str(n):
            print(f"Given number {n} is same as predicted number {key} \nTotal count for the predicted number is {value}")
    print(qc)


BV_algo(num,"qasm_simulator",1)